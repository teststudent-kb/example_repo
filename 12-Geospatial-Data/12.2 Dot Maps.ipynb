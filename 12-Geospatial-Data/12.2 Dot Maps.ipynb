{
  "nbformat": 4,
  "nbformat_minor": 0,
  "metadata": {
    "kernelspec": {
      "display_name": "Python 3",
      "language": "python",
      "name": "python3"
    },
    "language_info": {
      "codemirror_mode": {
        "name": "ipython",
        "version": 3
      },
      "file_extension": ".py",
      "mimetype": "text/x-python",
      "name": "python",
      "nbconvert_exporter": "python",
      "pygments_lexer": "ipython3",
      "version": "3.6.8"
    },
    "colab": {
      "name": "12.2 Dot Maps.ipynb",
      "provenance": [],
      "include_colab_link": true
    }
  },
  "cells": [
    {
      "cell_type": "markdown",
      "metadata": {
        "id": "view-in-github",
        "colab_type": "text"
      },
      "source": [
        "<a href=\"https://colab.research.google.com/github/teststudent-kb/example_repo/blob/main/12-Geospatial-Data/12.2%20Dot%20Maps.ipynb\" target=\"_parent\"><img src=\"https://colab.research.google.com/assets/colab-badge.svg\" alt=\"Open In Colab\"/></a>"
      ]
    },
    {
      "cell_type": "markdown",
      "metadata": {
        "id": "LZhFkVU_wnT0"
      },
      "source": [
        "# 12.2 Dot Maps\n",
        "\n",
        "A **dot map** is a way to visualize the locations of events in space. In a dot map, points are added to a map to represent the geographic location of some event.\n",
        "\n",
        "The most important dot map ever made is perhaps John Snow's map of the cholera cases during the 1854 London cholera outbreak. At the time, the cause of cholera was unknown. Snow's dot map showed that the cholera cases centered around a particular water pump, the Broad Street pump. (In the days before running water, residents had to fetch water from the local water pump.) Snow's dot map is shown below; each \"dot\" in this map is a thin black box. Snow stacked the boxes when there were multiple people in one residence that contracted cholera. At this resolution, the data appear as black bars of different heights, but if you zoom in, you will see the individual \"dots\".\n",
        "\n",
        "![](https://github.com/dlsun/pods/blob/master/12-Geospatial-Data/img/cholera.jpg?raw=1)\n",
        "\n",
        "Snow followed up on the insight with careful, on-the-ground detective work.\n",
        "\n",
        "> There were only ten deaths in houses situated decidedly nearer to another street-pump. In five of these cases the families of the deceased persons informed me that they always sent to the pump in Broad Street, as they preferred the water to that of the pumps which were nearer. In three other cases, the deceased were children who went to school near the pump in Broad Street....\n",
        "\n",
        "In the end, Snow was able to build a strong case that the Broad Street pump was the source of the cholera outbreak.\n",
        "\n",
        "> The result of the inquiry, then, is, that there was been no particular outbreak or prevalence of cholera in this part of London except among the persons who were in the habit of drinking the water of the above-mentioned pump well. I had an interview with the Board of Guardians of St James's parish, on the evening of [September 7], and represented the above circumstances to them. In consequence of what I said, the handle of the pump was removed on the following day."
      ]
    },
    {
      "cell_type": "markdown",
      "metadata": {
        "id": "XfJ0MeKfwnT4"
      },
      "source": [
        "Let's make dot maps in Python. We will make a map of all earthquakes in the world on June 4, 2018. First, we read in the data."
      ]
    },
    {
      "cell_type": "code",
      "metadata": {
        "id": "RSAJ47MywnT6",
        "colab": {
          "base_uri": "https://localhost:8080/",
          "height": 834
        },
        "outputId": "2a007311-39e9-4361-bcbd-81ab07420285"
      },
      "source": [
        ""
      ],
      "execution_count": 6,
      "outputs": [
        {
          "output_type": "execute_result",
          "data": {
            "text/html": [
              "\n",
              "  <div id=\"df-3a9b2296-1b31-4fb8-808f-d141948e2aac\">\n",
              "    <div class=\"colab-df-container\">\n",
              "      <div>\n",
              "<style scoped>\n",
              "    .dataframe tbody tr th:only-of-type {\n",
              "        vertical-align: middle;\n",
              "    }\n",
              "\n",
              "    .dataframe tbody tr th {\n",
              "        vertical-align: top;\n",
              "    }\n",
              "\n",
              "    .dataframe thead th {\n",
              "        text-align: right;\n",
              "    }\n",
              "</style>\n",
              "<table border=\"1\" class=\"dataframe\">\n",
              "  <thead>\n",
              "    <tr style=\"text-align: right;\">\n",
              "      <th></th>\n",
              "      <th>time</th>\n",
              "      <th>latitude</th>\n",
              "      <th>longitude</th>\n",
              "      <th>depth</th>\n",
              "      <th>mag</th>\n",
              "      <th>magType</th>\n",
              "      <th>nst</th>\n",
              "      <th>gap</th>\n",
              "      <th>dmin</th>\n",
              "      <th>rms</th>\n",
              "      <th>...</th>\n",
              "      <th>updated</th>\n",
              "      <th>place</th>\n",
              "      <th>type</th>\n",
              "      <th>horizontalError</th>\n",
              "      <th>depthError</th>\n",
              "      <th>magError</th>\n",
              "      <th>magNst</th>\n",
              "      <th>status</th>\n",
              "      <th>locationSource</th>\n",
              "      <th>magSource</th>\n",
              "    </tr>\n",
              "  </thead>\n",
              "  <tbody>\n",
              "    <tr>\n",
              "      <th>0</th>\n",
              "      <td>2018-06-05T17:51:13.660Z</td>\n",
              "      <td>19.407833</td>\n",
              "      <td>-155.282837</td>\n",
              "      <td>1.19</td>\n",
              "      <td>1.88</td>\n",
              "      <td>ml</td>\n",
              "      <td>19.0</td>\n",
              "      <td>82.00</td>\n",
              "      <td>0.009850</td>\n",
              "      <td>0.1300</td>\n",
              "      <td>...</td>\n",
              "      <td>2018-06-05T17:56:55.940Z</td>\n",
              "      <td>5km WSW of Volcano, Hawaii</td>\n",
              "      <td>earthquake</td>\n",
              "      <td>0.21</td>\n",
              "      <td>0.28</td>\n",
              "      <td>0.250</td>\n",
              "      <td>9.0</td>\n",
              "      <td>automatic</td>\n",
              "      <td>hv</td>\n",
              "      <td>hv</td>\n",
              "    </tr>\n",
              "    <tr>\n",
              "      <th>1</th>\n",
              "      <td>2018-06-05T17:46:26.600Z</td>\n",
              "      <td>35.378333</td>\n",
              "      <td>-117.858333</td>\n",
              "      <td>0.21</td>\n",
              "      <td>0.87</td>\n",
              "      <td>ml</td>\n",
              "      <td>10.0</td>\n",
              "      <td>88.00</td>\n",
              "      <td>0.111100</td>\n",
              "      <td>0.1600</td>\n",
              "      <td>...</td>\n",
              "      <td>2018-06-05T17:50:16.233Z</td>\n",
              "      <td>20km W of Johannesburg, CA</td>\n",
              "      <td>earthquake</td>\n",
              "      <td>0.38</td>\n",
              "      <td>31.61</td>\n",
              "      <td>0.107</td>\n",
              "      <td>13.0</td>\n",
              "      <td>automatic</td>\n",
              "      <td>ci</td>\n",
              "      <td>ci</td>\n",
              "    </tr>\n",
              "    <tr>\n",
              "      <th>2</th>\n",
              "      <td>2018-06-05T17:46:24.020Z</td>\n",
              "      <td>38.803665</td>\n",
              "      <td>-122.740837</td>\n",
              "      <td>12.37</td>\n",
              "      <td>0.62</td>\n",
              "      <td>md</td>\n",
              "      <td>10.0</td>\n",
              "      <td>224.00</td>\n",
              "      <td>0.042770</td>\n",
              "      <td>0.1800</td>\n",
              "      <td>...</td>\n",
              "      <td>2018-06-05T17:48:01.126Z</td>\n",
              "      <td>3km SW of Cobb, CA</td>\n",
              "      <td>earthquake</td>\n",
              "      <td>3.04</td>\n",
              "      <td>6.68</td>\n",
              "      <td>NaN</td>\n",
              "      <td>1.0</td>\n",
              "      <td>automatic</td>\n",
              "      <td>nc</td>\n",
              "      <td>nc</td>\n",
              "    </tr>\n",
              "    <tr>\n",
              "      <th>3</th>\n",
              "      <td>2018-06-05T17:34:35.195Z</td>\n",
              "      <td>67.533300</td>\n",
              "      <td>-144.217500</td>\n",
              "      <td>10.30</td>\n",
              "      <td>1.20</td>\n",
              "      <td>ml</td>\n",
              "      <td>NaN</td>\n",
              "      <td>NaN</td>\n",
              "      <td>NaN</td>\n",
              "      <td>0.6800</td>\n",
              "      <td>...</td>\n",
              "      <td>2018-06-05T17:38:03.433Z</td>\n",
              "      <td>86km SE of Arctic Village, Alaska</td>\n",
              "      <td>earthquake</td>\n",
              "      <td>NaN</td>\n",
              "      <td>0.30</td>\n",
              "      <td>NaN</td>\n",
              "      <td>NaN</td>\n",
              "      <td>automatic</td>\n",
              "      <td>ak</td>\n",
              "      <td>ak</td>\n",
              "    </tr>\n",
              "    <tr>\n",
              "      <th>4</th>\n",
              "      <td>2018-06-05T17:20:31.020Z</td>\n",
              "      <td>19.324499</td>\n",
              "      <td>-155.251999</td>\n",
              "      <td>3.84</td>\n",
              "      <td>2.64</td>\n",
              "      <td>ml</td>\n",
              "      <td>15.0</td>\n",
              "      <td>113.00</td>\n",
              "      <td>0.047680</td>\n",
              "      <td>0.1000</td>\n",
              "      <td>...</td>\n",
              "      <td>2018-06-05T17:26:16.040Z</td>\n",
              "      <td>11km S of Volcano, Hawaii</td>\n",
              "      <td>earthquake</td>\n",
              "      <td>0.51</td>\n",
              "      <td>1.87</td>\n",
              "      <td>0.520</td>\n",
              "      <td>3.0</td>\n",
              "      <td>automatic</td>\n",
              "      <td>hv</td>\n",
              "      <td>hv</td>\n",
              "    </tr>\n",
              "    <tr>\n",
              "      <th>...</th>\n",
              "      <td>...</td>\n",
              "      <td>...</td>\n",
              "      <td>...</td>\n",
              "      <td>...</td>\n",
              "      <td>...</td>\n",
              "      <td>...</td>\n",
              "      <td>...</td>\n",
              "      <td>...</td>\n",
              "      <td>...</td>\n",
              "      <td>...</td>\n",
              "      <td>...</td>\n",
              "      <td>...</td>\n",
              "      <td>...</td>\n",
              "      <td>...</td>\n",
              "      <td>...</td>\n",
              "      <td>...</td>\n",
              "      <td>...</td>\n",
              "      <td>...</td>\n",
              "      <td>...</td>\n",
              "      <td>...</td>\n",
              "      <td>...</td>\n",
              "    </tr>\n",
              "    <tr>\n",
              "      <th>536</th>\n",
              "      <td>2018-06-04T18:33:13.660Z</td>\n",
              "      <td>44.139333</td>\n",
              "      <td>-110.314333</td>\n",
              "      <td>6.28</td>\n",
              "      <td>0.91</td>\n",
              "      <td>md</td>\n",
              "      <td>10.0</td>\n",
              "      <td>162.00</td>\n",
              "      <td>0.253300</td>\n",
              "      <td>0.2100</td>\n",
              "      <td>...</td>\n",
              "      <td>2018-06-04T20:51:17.600Z</td>\n",
              "      <td>54km SE of Old Faithful Geyser, Wyoming</td>\n",
              "      <td>earthquake</td>\n",
              "      <td>0.97</td>\n",
              "      <td>3.12</td>\n",
              "      <td>0.115</td>\n",
              "      <td>4.0</td>\n",
              "      <td>reviewed</td>\n",
              "      <td>uu</td>\n",
              "      <td>uu</td>\n",
              "    </tr>\n",
              "    <tr>\n",
              "      <th>537</th>\n",
              "      <td>2018-06-04T18:30:13.520Z</td>\n",
              "      <td>19.391666</td>\n",
              "      <td>-155.278503</td>\n",
              "      <td>0.69</td>\n",
              "      <td>1.70</td>\n",
              "      <td>ml</td>\n",
              "      <td>14.0</td>\n",
              "      <td>128.00</td>\n",
              "      <td>0.005883</td>\n",
              "      <td>0.2900</td>\n",
              "      <td>...</td>\n",
              "      <td>2018-06-04T18:36:05.750Z</td>\n",
              "      <td>6km SW of Volcano, Hawaii</td>\n",
              "      <td>earthquake</td>\n",
              "      <td>0.76</td>\n",
              "      <td>0.49</td>\n",
              "      <td>0.200</td>\n",
              "      <td>4.0</td>\n",
              "      <td>automatic</td>\n",
              "      <td>hv</td>\n",
              "      <td>hv</td>\n",
              "    </tr>\n",
              "    <tr>\n",
              "      <th>538</th>\n",
              "      <td>2018-06-04T18:24:37.410Z</td>\n",
              "      <td>-7.055000</td>\n",
              "      <td>123.203900</td>\n",
              "      <td>628.69</td>\n",
              "      <td>5.30</td>\n",
              "      <td>mww</td>\n",
              "      <td>NaN</td>\n",
              "      <td>43.00</td>\n",
              "      <td>1.839000</td>\n",
              "      <td>0.7000</td>\n",
              "      <td>...</td>\n",
              "      <td>2018-06-05T17:40:41.040Z</td>\n",
              "      <td>165km NNE of Palue, Indonesia</td>\n",
              "      <td>earthquake</td>\n",
              "      <td>9.70</td>\n",
              "      <td>5.20</td>\n",
              "      <td>0.071</td>\n",
              "      <td>19.0</td>\n",
              "      <td>reviewed</td>\n",
              "      <td>us</td>\n",
              "      <td>us</td>\n",
              "    </tr>\n",
              "    <tr>\n",
              "      <th>539</th>\n",
              "      <td>2018-06-04T18:20:04.548Z</td>\n",
              "      <td>37.160100</td>\n",
              "      <td>-117.552900</td>\n",
              "      <td>9.60</td>\n",
              "      <td>0.70</td>\n",
              "      <td>ml</td>\n",
              "      <td>13.0</td>\n",
              "      <td>164.33</td>\n",
              "      <td>0.104000</td>\n",
              "      <td>0.1146</td>\n",
              "      <td>...</td>\n",
              "      <td>2018-06-04T18:48:15.218Z</td>\n",
              "      <td>65km E of Big Pine, California</td>\n",
              "      <td>earthquake</td>\n",
              "      <td>NaN</td>\n",
              "      <td>2.20</td>\n",
              "      <td>0.230</td>\n",
              "      <td>9.0</td>\n",
              "      <td>reviewed</td>\n",
              "      <td>nn</td>\n",
              "      <td>nn</td>\n",
              "    </tr>\n",
              "    <tr>\n",
              "      <th>540</th>\n",
              "      <td>2018-06-04T18:10:35.980Z</td>\n",
              "      <td>46.873000</td>\n",
              "      <td>-112.521167</td>\n",
              "      <td>13.55</td>\n",
              "      <td>1.40</td>\n",
              "      <td>ml</td>\n",
              "      <td>12.0</td>\n",
              "      <td>103.00</td>\n",
              "      <td>0.124000</td>\n",
              "      <td>0.1000</td>\n",
              "      <td>...</td>\n",
              "      <td>2018-06-04T19:31:52.880Z</td>\n",
              "      <td>15km SE of Lincoln, Montana</td>\n",
              "      <td>earthquake</td>\n",
              "      <td>0.37</td>\n",
              "      <td>0.59</td>\n",
              "      <td>0.051</td>\n",
              "      <td>2.0</td>\n",
              "      <td>reviewed</td>\n",
              "      <td>mb</td>\n",
              "      <td>mb</td>\n",
              "    </tr>\n",
              "  </tbody>\n",
              "</table>\n",
              "<p>541 rows × 22 columns</p>\n",
              "</div>\n",
              "      <button class=\"colab-df-convert\" onclick=\"convertToInteractive('df-3a9b2296-1b31-4fb8-808f-d141948e2aac')\"\n",
              "              title=\"Convert this dataframe to an interactive table.\"\n",
              "              style=\"display:none;\">\n",
              "        \n",
              "  <svg xmlns=\"http://www.w3.org/2000/svg\" height=\"24px\"viewBox=\"0 0 24 24\"\n",
              "       width=\"24px\">\n",
              "    <path d=\"M0 0h24v24H0V0z\" fill=\"none\"/>\n",
              "    <path d=\"M18.56 5.44l.94 2.06.94-2.06 2.06-.94-2.06-.94-.94-2.06-.94 2.06-2.06.94zm-11 1L8.5 8.5l.94-2.06 2.06-.94-2.06-.94L8.5 2.5l-.94 2.06-2.06.94zm10 10l.94 2.06.94-2.06 2.06-.94-2.06-.94-.94-2.06-.94 2.06-2.06.94z\"/><path d=\"M17.41 7.96l-1.37-1.37c-.4-.4-.92-.59-1.43-.59-.52 0-1.04.2-1.43.59L10.3 9.45l-7.72 7.72c-.78.78-.78 2.05 0 2.83L4 21.41c.39.39.9.59 1.41.59.51 0 1.02-.2 1.41-.59l7.78-7.78 2.81-2.81c.8-.78.8-2.07 0-2.86zM5.41 20L4 18.59l7.72-7.72 1.47 1.35L5.41 20z\"/>\n",
              "  </svg>\n",
              "      </button>\n",
              "      \n",
              "  <style>\n",
              "    .colab-df-container {\n",
              "      display:flex;\n",
              "      flex-wrap:wrap;\n",
              "      gap: 12px;\n",
              "    }\n",
              "\n",
              "    .colab-df-convert {\n",
              "      background-color: #E8F0FE;\n",
              "      border: none;\n",
              "      border-radius: 50%;\n",
              "      cursor: pointer;\n",
              "      display: none;\n",
              "      fill: #1967D2;\n",
              "      height: 32px;\n",
              "      padding: 0 0 0 0;\n",
              "      width: 32px;\n",
              "    }\n",
              "\n",
              "    .colab-df-convert:hover {\n",
              "      background-color: #E2EBFA;\n",
              "      box-shadow: 0px 1px 2px rgba(60, 64, 67, 0.3), 0px 1px 3px 1px rgba(60, 64, 67, 0.15);\n",
              "      fill: #174EA6;\n",
              "    }\n",
              "\n",
              "    [theme=dark] .colab-df-convert {\n",
              "      background-color: #3B4455;\n",
              "      fill: #D2E3FC;\n",
              "    }\n",
              "\n",
              "    [theme=dark] .colab-df-convert:hover {\n",
              "      background-color: #434B5C;\n",
              "      box-shadow: 0px 1px 3px 1px rgba(0, 0, 0, 0.15);\n",
              "      filter: drop-shadow(0px 1px 2px rgba(0, 0, 0, 0.3));\n",
              "      fill: #FFFFFF;\n",
              "    }\n",
              "  </style>\n",
              "\n",
              "      <script>\n",
              "        const buttonEl =\n",
              "          document.querySelector('#df-3a9b2296-1b31-4fb8-808f-d141948e2aac button.colab-df-convert');\n",
              "        buttonEl.style.display =\n",
              "          google.colab.kernel.accessAllowed ? 'block' : 'none';\n",
              "\n",
              "        async function convertToInteractive(key) {\n",
              "          const element = document.querySelector('#df-3a9b2296-1b31-4fb8-808f-d141948e2aac');\n",
              "          const dataTable =\n",
              "            await google.colab.kernel.invokeFunction('convertToInteractive',\n",
              "                                                     [key], {});\n",
              "          if (!dataTable) return;\n",
              "\n",
              "          const docLinkHtml = 'Like what you see? Visit the ' +\n",
              "            '<a target=\"_blank\" href=https://colab.research.google.com/notebooks/data_table.ipynb>data table notebook</a>'\n",
              "            + ' to learn more about interactive tables.';\n",
              "          element.innerHTML = '';\n",
              "          dataTable['output_type'] = 'display_data';\n",
              "          await google.colab.output.renderOutput(dataTable, element);\n",
              "          const docLink = document.createElement('div');\n",
              "          docLink.innerHTML = docLinkHtml;\n",
              "          element.appendChild(docLink);\n",
              "        }\n",
              "      </script>\n",
              "    </div>\n",
              "  </div>\n",
              "  "
            ],
            "text/plain": [
              "                         time   latitude   longitude   depth   mag magType  \\\n",
              "0    2018-06-05T17:51:13.660Z  19.407833 -155.282837    1.19  1.88      ml   \n",
              "1    2018-06-05T17:46:26.600Z  35.378333 -117.858333    0.21  0.87      ml   \n",
              "2    2018-06-05T17:46:24.020Z  38.803665 -122.740837   12.37  0.62      md   \n",
              "3    2018-06-05T17:34:35.195Z  67.533300 -144.217500   10.30  1.20      ml   \n",
              "4    2018-06-05T17:20:31.020Z  19.324499 -155.251999    3.84  2.64      ml   \n",
              "..                        ...        ...         ...     ...   ...     ...   \n",
              "536  2018-06-04T18:33:13.660Z  44.139333 -110.314333    6.28  0.91      md   \n",
              "537  2018-06-04T18:30:13.520Z  19.391666 -155.278503    0.69  1.70      ml   \n",
              "538  2018-06-04T18:24:37.410Z  -7.055000  123.203900  628.69  5.30     mww   \n",
              "539  2018-06-04T18:20:04.548Z  37.160100 -117.552900    9.60  0.70      ml   \n",
              "540  2018-06-04T18:10:35.980Z  46.873000 -112.521167   13.55  1.40      ml   \n",
              "\n",
              "      nst     gap      dmin     rms  ...                   updated  \\\n",
              "0    19.0   82.00  0.009850  0.1300  ...  2018-06-05T17:56:55.940Z   \n",
              "1    10.0   88.00  0.111100  0.1600  ...  2018-06-05T17:50:16.233Z   \n",
              "2    10.0  224.00  0.042770  0.1800  ...  2018-06-05T17:48:01.126Z   \n",
              "3     NaN     NaN       NaN  0.6800  ...  2018-06-05T17:38:03.433Z   \n",
              "4    15.0  113.00  0.047680  0.1000  ...  2018-06-05T17:26:16.040Z   \n",
              "..    ...     ...       ...     ...  ...                       ...   \n",
              "536  10.0  162.00  0.253300  0.2100  ...  2018-06-04T20:51:17.600Z   \n",
              "537  14.0  128.00  0.005883  0.2900  ...  2018-06-04T18:36:05.750Z   \n",
              "538   NaN   43.00  1.839000  0.7000  ...  2018-06-05T17:40:41.040Z   \n",
              "539  13.0  164.33  0.104000  0.1146  ...  2018-06-04T18:48:15.218Z   \n",
              "540  12.0  103.00  0.124000  0.1000  ...  2018-06-04T19:31:52.880Z   \n",
              "\n",
              "                                       place        type horizontalError  \\\n",
              "0                 5km WSW of Volcano, Hawaii  earthquake            0.21   \n",
              "1                 20km W of Johannesburg, CA  earthquake            0.38   \n",
              "2                         3km SW of Cobb, CA  earthquake            3.04   \n",
              "3          86km SE of Arctic Village, Alaska  earthquake             NaN   \n",
              "4                  11km S of Volcano, Hawaii  earthquake            0.51   \n",
              "..                                       ...         ...             ...   \n",
              "536  54km SE of Old Faithful Geyser, Wyoming  earthquake            0.97   \n",
              "537                6km SW of Volcano, Hawaii  earthquake            0.76   \n",
              "538            165km NNE of Palue, Indonesia  earthquake            9.70   \n",
              "539           65km E of Big Pine, California  earthquake             NaN   \n",
              "540              15km SE of Lincoln, Montana  earthquake            0.37   \n",
              "\n",
              "    depthError  magError  magNst     status  locationSource magSource  \n",
              "0         0.28     0.250     9.0  automatic              hv        hv  \n",
              "1        31.61     0.107    13.0  automatic              ci        ci  \n",
              "2         6.68       NaN     1.0  automatic              nc        nc  \n",
              "3         0.30       NaN     NaN  automatic              ak        ak  \n",
              "4         1.87     0.520     3.0  automatic              hv        hv  \n",
              "..         ...       ...     ...        ...             ...       ...  \n",
              "536       3.12     0.115     4.0   reviewed              uu        uu  \n",
              "537       0.49     0.200     4.0  automatic              hv        hv  \n",
              "538       5.20     0.071    19.0   reviewed              us        us  \n",
              "539       2.20     0.230     9.0   reviewed              nn        nn  \n",
              "540       0.59     0.051     2.0   reviewed              mb        mb  \n",
              "\n",
              "[541 rows x 22 columns]"
            ]
          },
          "metadata": {},
          "execution_count": 6
        }
      ]
    },
    {
      "cell_type": "markdown",
      "metadata": {
        "id": "pnQ0NyTywnT-"
      },
      "source": [
        "Next, we set up the basic map, just as we did in the previous section. To add the points to the map, we make a scatterplot, just like we learned in Chapter 3, but we have to specify the coordinate system we are using. (Longitude and latitude are not the only way to specify a geographic location.) If the coordinates are specified in longitude and latitude, a good default transform is the `Geodetic`."
      ]
    },
    {
      "cell_type": "code",
      "metadata": {
        "id": "afwNUhfFwybO",
        "outputId": "7c0721e2-11f2-42e1-9ca1-5bae06184abc",
        "colab": {
          "base_uri": "https://localhost:8080/"
        }
      },
      "source": [
        "# I had to uninstall Shapely to get this to work in Colab.\n",
        "\n",
        "!pip uninstall -y cartopy\n",
        "!pip3 install cartopy\n"
      ],
      "execution_count": 2,
      "outputs": [
        {
          "output_type": "stream",
          "name": "stdout",
          "text": [
            "Found existing installation: Shapely 1.8.1.post1\n",
            "Uninstalling Shapely-1.8.1.post1:\n",
            "  Successfully uninstalled Shapely-1.8.1.post1\n",
            "\u001b[31mERROR: Could not find a version that satisfies the requirement shapely--no-binary (from versions: none)\u001b[0m\n",
            "\u001b[31mERROR: No matching distribution found for shapely--no-binary\u001b[0m\n",
            "\u001b[33mWARNING: Skipping cartopy as it is not installed.\u001b[0m\n",
            "Collecting cartopy\n",
            "  Downloading Cartopy-0.20.2.tar.gz (10.8 MB)\n",
            "\u001b[K     |████████████████████████████████| 10.8 MB 4.2 MB/s \n",
            "\u001b[?25h  Installing build dependencies ... \u001b[?25l\u001b[?25hdone\n",
            "  Getting requirements to build wheel ... \u001b[?25l\u001b[?25herror\n",
            "\u001b[33mWARNING: Discarding https://files.pythonhosted.org/packages/f6/55/1e1c737dc9436b320deead73d1c455ddbb74b8b6992081863492f6f6378a/Cartopy-0.20.2.tar.gz#sha256=4d08c198ecaa50a6a6b109d0f14c070e813defc046a83ac5d7ab494f85599e35 (from https://pypi.org/simple/cartopy/) (requires-python:>=3.7). Command errored out with exit status 1: /usr/bin/python3 /usr/local/lib/python3.7/dist-packages/pip/_vendor/pep517/in_process/_in_process.py get_requires_for_build_wheel /tmp/tmpyj7oe7hd Check the logs for full command output.\u001b[0m\n",
            "  Downloading Cartopy-0.20.1.tar.gz (10.8 MB)\n",
            "\u001b[K     |████████████████████████████████| 10.8 MB 16.5 MB/s \n",
            "\u001b[?25h  Installing build dependencies ... \u001b[?25l\u001b[?25hdone\n",
            "  Getting requirements to build wheel ... \u001b[?25l\u001b[?25herror\n",
            "\u001b[33mWARNING: Discarding https://files.pythonhosted.org/packages/fc/59/aa52698e3838f4cd0e7eaa75bd86837e9e0b05041dbdaee3cda2fffced06/Cartopy-0.20.1.tar.gz#sha256=91f87b130e2574547a20cd634498df97d797abd12dcfd0235bc0cdbcec8b05e3 (from https://pypi.org/simple/cartopy/) (requires-python:>=3.7). Command errored out with exit status 1: /usr/bin/python3 /usr/local/lib/python3.7/dist-packages/pip/_vendor/pep517/in_process/_in_process.py get_requires_for_build_wheel /tmp/tmpvmad09ae Check the logs for full command output.\u001b[0m\n",
            "  Downloading Cartopy-0.20.0.tar.gz (10.8 MB)\n",
            "\u001b[K     |████████████████████████████████| 10.8 MB 39.4 MB/s \n",
            "\u001b[?25h  Installing build dependencies ... \u001b[?25l\u001b[?25hdone\n",
            "  Getting requirements to build wheel ... \u001b[?25l\u001b[?25herror\n",
            "\u001b[33mWARNING: Discarding https://files.pythonhosted.org/packages/0f/c0/58453b036e79046d211f083880d58dcce787e7e07647ac25dc46c6555099/Cartopy-0.20.0.tar.gz#sha256=eae58aff26806e63cf115b2bce9477cedc4aa9f578c5e477b2c25cfa404f2b7a (from https://pypi.org/simple/cartopy/) (requires-python:>=3.7). Command errored out with exit status 1: /usr/bin/python3 /usr/local/lib/python3.7/dist-packages/pip/_vendor/pep517/in_process/_in_process.py get_requires_for_build_wheel /tmp/tmpc1vjcit2 Check the logs for full command output.\u001b[0m\n",
            "  Downloading Cartopy-0.19.0.post1.tar.gz (12.1 MB)\n",
            "\u001b[K     |████████████████████████████████| 12.1 MB 31.5 MB/s \n",
            "\u001b[?25h  Installing build dependencies ... \u001b[?25l\u001b[?25hdone\n",
            "  Getting requirements to build wheel ... \u001b[?25l\u001b[?25hdone\n",
            "    Preparing wheel metadata ... \u001b[?25l\u001b[?25hdone\n",
            "Collecting shapely>=1.5.6\n",
            "  Downloading Shapely-1.8.1.post1-cp37-cp37m-manylinux_2_12_x86_64.manylinux2010_x86_64.whl (2.0 MB)\n",
            "\u001b[K     |████████████████████████████████| 2.0 MB 47.2 MB/s \n",
            "\u001b[?25hRequirement already satisfied: numpy>=1.13.3 in /usr/local/lib/python3.7/dist-packages (from cartopy) (1.21.5)\n",
            "Collecting pyshp>=2\n",
            "  Downloading pyshp-2.2.0-py3-none-any.whl (44 kB)\n",
            "\u001b[K     |████████████████████████████████| 44 kB 2.6 MB/s \n",
            "\u001b[?25hBuilding wheels for collected packages: cartopy\n",
            "  Building wheel for cartopy (PEP 517) ... \u001b[?25l\u001b[?25hdone\n",
            "  Created wheel for cartopy: filename=Cartopy-0.19.0.post1-cp37-cp37m-linux_x86_64.whl size=12516279 sha256=7f0b924e0c5b5314dc8cb81bb8a3c7f8bc395780690d2f2489f15930e79eee9b\n",
            "  Stored in directory: /root/.cache/pip/wheels/98/01/f7/bd10aeb96fe4b518cde5f7c4f5e12c7202f85b7353a5017847\n",
            "Successfully built cartopy\n",
            "Installing collected packages: shapely, pyshp, cartopy\n",
            "\u001b[31mERROR: pip's dependency resolver does not currently take into account all the packages that are installed. This behaviour is the source of the following dependency conflicts.\n",
            "albumentations 0.1.12 requires imgaug<0.2.7,>=0.2.5, but you have imgaug 0.2.9 which is incompatible.\u001b[0m\n",
            "Successfully installed cartopy-0.19.0.post1 pyshp-2.2.0 shapely-1.8.1.post1\n"
          ]
        }
      ]
    },
    {
      "cell_type": "code",
      "source": [
        "!pip uninstall -y shapely\n",
        "!pip install shapely --no-binary shapely"
      ],
      "metadata": {
        "id": "NewrJrExquuV",
        "outputId": "a46861a1-6a1d-4402-cfdb-4bc30c8eed33",
        "colab": {
          "base_uri": "https://localhost:8080/"
        }
      },
      "execution_count": 4,
      "outputs": [
        {
          "output_type": "stream",
          "name": "stdout",
          "text": [
            "\u001b[33mWARNING: Skipping shapely as it is not installed.\u001b[0m\n",
            "Collecting shapely\n",
            "  Using cached Shapely-1.8.1.post1.tar.gz (198 kB)\n",
            "  Installing build dependencies ... \u001b[?25l\u001b[?25hdone\n",
            "  Getting requirements to build wheel ... \u001b[?25l\u001b[?25hdone\n",
            "    Preparing wheel metadata ... \u001b[?25l\u001b[?25hdone\n",
            "Building wheels for collected packages: shapely\n",
            "  Building wheel for shapely (PEP 517) ... \u001b[?25l\u001b[?25hdone\n",
            "  Created wheel for shapely: filename=Shapely-1.8.1.post1-cp37-cp37m-linux_x86_64.whl size=665625 sha256=10380f53878869d950ff6b7bd32a22e6066c97202c6e43ccc7365651be6b61c1\n",
            "  Stored in directory: /root/.cache/pip/wheels/ea/8d/2f/ab748b8a432b3c6cd72e751b3bca17c5a9ed4538b1e78467e6\n",
            "Successfully built shapely\n",
            "Installing collected packages: shapely\n",
            "\u001b[31mERROR: pip's dependency resolver does not currently take into account all the packages that are installed. This behaviour is the source of the following dependency conflicts.\n",
            "albumentations 0.1.12 requires imgaug<0.2.7,>=0.2.5, but you have imgaug 0.2.9 which is incompatible.\u001b[0m\n",
            "Successfully installed shapely-1.8.1.post1\n"
          ]
        }
      ]
    },
    {
      "cell_type": "code",
      "metadata": {
        "id": "RsSKsYrfwnUB",
        "outputId": "39ec9894-a2d8-4996-e7d7-0bec1932d929",
        "colab": {
          "base_uri": "https://localhost:8080/",
          "height": 279
        }
      },
      "source": [
        "import cartopy.crs as ccrs\n",
        "import matplotlib.pyplot as plt\n",
        "import pandas as pd\n",
        "\n",
        "data_dir = \"https://dlsun.github.io/pods/data/\"\n",
        "df_quakes = pd.read_csv(data_dir + \"earthquakes.csv\")\n",
        "df_quakes\n",
        "\n",
        "ax = plt.axes(projection=ccrs.Robinson())\n",
        "ax.coastlines()\n",
        "\n",
        "\n",
        "\n",
        "df_quakes.plot.scatter(ax=ax,\n",
        "                       x=\"longitude\", y=\"latitude\",\n",
        "                       c=\"red\",\n",
        "                       transform=ccrs.Geodetic())"
      ],
      "execution_count": 8,
      "outputs": [
        {
          "output_type": "execute_result",
          "data": {
            "text/plain": [
              "<cartopy.mpl.geoaxes.GeoAxesSubplot at 0x7f87f41f5ed0>"
            ]
          },
          "metadata": {},
          "execution_count": 8
        },
        {
          "output_type": "stream",
          "name": "stderr",
          "text": [
            "/usr/local/lib/python3.7/dist-packages/cartopy/crs.py:228: ShapelyDeprecationWarning: __len__ for multi-part geometries is deprecated and will be removed in Shapely 2.0. Check the length of the `geoms` property instead to get the  number of parts of a multi-part geometry.\n",
            "  if len(multi_line_string) > 1:\n",
            "/usr/local/lib/python3.7/dist-packages/cartopy/crs.py:280: ShapelyDeprecationWarning: Iteration over multi-part geometries is deprecated and will be removed in Shapely 2.0. Use the `geoms` property to access the constituent parts of a multi-part geometry.\n",
            "  for line in multi_line_string:\n",
            "/usr/local/lib/python3.7/dist-packages/cartopy/crs.py:347: ShapelyDeprecationWarning: __len__ for multi-part geometries is deprecated and will be removed in Shapely 2.0. Check the length of the `geoms` property instead to get the  number of parts of a multi-part geometry.\n",
            "  if len(p_mline) > 0:\n"
          ]
        },
        {
          "output_type": "display_data",
          "data": {
            "image/png": "[encoded data removed]",
            "text/plain": [
              "<Figure size 432x288 with 1 Axes>"
            ]
          },
          "metadata": {
            "needs_background": "light"
          }
        }
      ]
    },
    {
      "cell_type": "markdown",
      "metadata": {
        "id": "3b2TLHANwnUF"
      },
      "source": [
        "Just as before, we can use size to represent another dimension of the data. In the graphic below, we use size to represent the magnitude of each earthquake."
      ]
    },
    {
      "cell_type": "code",
      "metadata": {
        "id": "nQCwgUMOwnUG",
        "outputId": "4d21e777-a242-421c-d1d2-5bb821138c2d",
        "colab": {
          "base_uri": "https://localhost:8080/",
          "height": 279
        }
      },
      "source": [
        "import numpy as np\n",
        "\n",
        "ax = plt.axes(projection=ccrs.Robinson())\n",
        "ax.coastlines()\n",
        "\n",
        "ax.scatter(df_quakes[\"longitude\"], df_quakes[\"latitude\"],\n",
        "           c=\"red\", s=2 ** df_quakes[\"mag\"],\n",
        "           transform=ccrs.Geodetic())"
      ],
      "execution_count": 9,
      "outputs": [
        {
          "output_type": "execute_result",
          "data": {
            "text/plain": [
              "<matplotlib.collections.PathCollection at 0x7f87fb353c90>"
            ]
          },
          "metadata": {},
          "execution_count": 9
        },
        {
          "output_type": "stream",
          "name": "stderr",
          "text": [
            "/usr/local/lib/python3.7/dist-packages/cartopy/crs.py:228: ShapelyDeprecationWarning: __len__ for multi-part geometries is deprecated and will be removed in Shapely 2.0. Check the length of the `geoms` property instead to get the  number of parts of a multi-part geometry.\n",
            "  if len(multi_line_string) > 1:\n",
            "/usr/local/lib/python3.7/dist-packages/cartopy/crs.py:280: ShapelyDeprecationWarning: Iteration over multi-part geometries is deprecated and will be removed in Shapely 2.0. Use the `geoms` property to access the constituent parts of a multi-part geometry.\n",
            "  for line in multi_line_string:\n",
            "/usr/local/lib/python3.7/dist-packages/cartopy/crs.py:347: ShapelyDeprecationWarning: __len__ for multi-part geometries is deprecated and will be removed in Shapely 2.0. Check the length of the `geoms` property instead to get the  number of parts of a multi-part geometry.\n",
            "  if len(p_mline) > 0:\n"
          ]
        },
        {
          "output_type": "display_data",
          "data": {
            "image/png": "[encoded data removed]",
            "text/plain": [
              "<Figure size 432x288 with 1 Axes>"
            ]
          },
          "metadata": {
            "needs_background": "light"
          }
        }
      ]
    },
    {
      "cell_type": "markdown",
      "metadata": {
        "id": "IA5BZSpVwnUJ"
      },
      "source": [
        "# Exercises"
      ]
    },
    {
      "cell_type": "markdown",
      "metadata": {
        "id": "tO9lXbqFHR2r"
      },
      "source": [
        "1\\. The data set (`https://raw.githubusercontent.com/CSSEGISandData/COVID-19/master/csse_covid_19_data/csse_covid_19_time_series/time_series_covid19_confirmed_global.csv`) contains data about the number of confirmed cases of the COVID-19 pandemic that shook the world in 2020. Using the location of each case (i.e., latitude and longitude), make a dot map that shows how the cases are distributed geographically."
      ]
    },
    {
      "cell_type": "markdown",
      "metadata": {
        "id": "4ov-bYCQwnUK"
      },
      "source": [
        "2\\. The file `https://dlsun.github.io/pods/data/ncaa-football-stadiums.csv` contains information about NCAA football stadiums in the United States. Make a dot map that shows the location and capacity of NCAA football stadiums."
      ]
    }
  ]
}